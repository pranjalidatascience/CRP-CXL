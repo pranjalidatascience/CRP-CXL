{
 "cells": [
  {
   "cell_type": "code",
   "execution_count": 1,
   "id": "842933f8",
   "metadata": {},
   "outputs": [],
   "source": [
    "from arcgis.gis import GIS"
   ]
  },
  {
   "cell_type": "code",
   "execution_count": 2,
   "id": "1eab9b78",
   "metadata": {},
   "outputs": [],
   "source": [
    "gis = GIS()"
   ]
  },
  {
   "cell_type": "code",
   "execution_count": null,
   "id": "77f64850",
   "metadata": {},
   "outputs": [
    {
     "ename": "AttributeError",
     "evalue": "'GIS' object has no attribute 'countries'",
     "output_type": "error",
     "traceback": [
      "\u001b[31m---------------------------------------------------------------------------\u001b[39m",
      "\u001b[31mAttributeError\u001b[39m                            Traceback (most recent call last)",
      "\u001b[36mCell\u001b[39m\u001b[36m \u001b[39m\u001b[32mIn[3]\u001b[39m\u001b[32m, line 1\u001b[39m\n\u001b[32m----> \u001b[39m\u001b[32m1\u001b[39m \u001b[43mgis\u001b[49m\u001b[43m.\u001b[49m\u001b[43mcountries\u001b[49m\n",
      "\u001b[31mAttributeError\u001b[39m: 'GIS' object has no attribute 'countries'"
     ]
    }
   ],
   "source": []
  },
  {
   "cell_type": "code",
   "execution_count": 3,
   "id": "2a4eac89",
   "metadata": {},
   "outputs": [],
   "source": [
    "search_results=gis.content.search(\"title:MAMMALS\")"
   ]
  },
  {
   "cell_type": "code",
   "execution_count": 4,
   "id": "f0e8ebb2",
   "metadata": {},
   "outputs": [
    {
     "data": {
      "text/plain": [
       "[<Item title:\"CanadaNaturalRegions_Web\" type:Feature Layer Collection owner:EsriCanadaEducation>,\n",
       " <Item title:\"Marine mammals\" type:Feature Layer Collection owner:robillardn>,\n",
       " <Item title:\"Mammals_survey testing\" type:Form owner:hmusabende_WCS_Global>,\n",
       " <Item title:\"Do Not Use - Small Mammal Trapping - V1\" type:Form owner:dwhitfieldadmin>,\n",
       " <Item title:\"TCA Mammal Sightings 23-24 new\" type:Web Map owner:m.e.washington_TCUGIS>,\n",
       " <Item title:\"SEA Mammals Mean Rarity v1_5\" type:Map Image Layer owner:danyan.leng_eowilson>,\n",
       " <Item title:\"Mammal Observation Survey\" type:Form owner:mdinnee@clemson.edu_Clemson>,\n",
       " <Item title:\"Mammals\" type:Form owner:JRamos23>,\n",
       " <Item title:\"Deadly Intersection - how plastic pollution harms marine mammals (Hailee Donoghue)\" type:Web Map owner:hdonog02_TuftsGIS>,\n",
       " <Item title:\"Threatened Marine Mammal Species\" type:Web Map owner:hfarrel>]"
      ]
     },
     "execution_count": 4,
     "metadata": {},
     "output_type": "execute_result"
    }
   ],
   "source": [
    "search_results"
   ]
  },
  {
   "cell_type": "code",
   "execution_count": 11,
   "id": "e33d6aeb",
   "metadata": {},
   "outputs": [],
   "source": [
    "search_result=gis.content.search(\"62f3ae64d01b4844808724b2133510c2\")"
   ]
  },
  {
   "cell_type": "code",
   "execution_count": 12,
   "id": "690954b9",
   "metadata": {},
   "outputs": [
    {
     "data": {
      "text/plain": [
       "[<Item title:\"MAMMALS\" type:CSV Collection owner:pgupta03@wm.edu_wm_gis>]"
      ]
     },
     "execution_count": 12,
     "metadata": {},
     "output_type": "execute_result"
    }
   ],
   "source": [
    "search_result"
   ]
  },
  {
   "cell_type": "code",
   "execution_count": 22,
   "id": "c861ed83",
   "metadata": {},
   "outputs": [],
   "source": [
    "feature_layer_collection = search_results[0]"
   ]
  },
  {
   "cell_type": "code",
   "execution_count": 31,
   "id": "321d68a2",
   "metadata": {},
   "outputs": [],
   "source": [
    "feature_layer = feature_layer_collection.layers[0]"
   ]
  },
  {
   "cell_type": "code",
   "execution_count": 32,
   "id": "9adf9cc0",
   "metadata": {},
   "outputs": [
    {
     "name": "stdout",
     "output_type": "stream",
     "text": [
      "OBJECTID\n",
      "ECO_ZONE\n",
      "ENG_ZONE\n",
      "FRE_ZONE\n",
      "ZONE_GROUP\n",
      "DOM_COVER\n"
     ]
    }
   ],
   "source": [
    "for i in feature_layer.properties.fields:\n",
    "    print(i['name'])"
   ]
  },
  {
   "cell_type": "code",
   "execution_count": null,
   "id": "249d18c3",
   "metadata": {},
   "outputs": [
    {
     "ename": "NameError",
     "evalue": "name 'map1' is not defined",
     "output_type": "error",
     "traceback": [
      "\u001b[31m---------------------------------------------------------------------------\u001b[39m",
      "\u001b[31mNameError\u001b[39m                                 Traceback (most recent call last)",
      "\u001b[36mCell\u001b[39m\u001b[36m \u001b[39m\u001b[32mIn[33]\u001b[39m\u001b[32m, line 1\u001b[39m\n\u001b[32m----> \u001b[39m\u001b[32m1\u001b[39m \u001b[43mmap1\u001b[49m.addlayer\n",
      "\u001b[31mNameError\u001b[39m: name 'map1' is not defined"
     ]
    }
   ],
   "source": []
  },
  {
   "cell_type": "code",
   "execution_count": null,
   "id": "b06eee77",
   "metadata": {},
   "outputs": [],
   "source": []
  }
 ],
 "metadata": {
  "kernelspec": {
   "display_name": "Python 3",
   "language": "python",
   "name": "python3"
  },
  "language_info": {
   "codemirror_mode": {
    "name": "ipython",
    "version": 3
   },
   "file_extension": ".py",
   "mimetype": "text/x-python",
   "name": "python",
   "nbconvert_exporter": "python",
   "pygments_lexer": "ipython3",
   "version": "3.12.1"
  }
 },
 "nbformat": 4,
 "nbformat_minor": 5
}
