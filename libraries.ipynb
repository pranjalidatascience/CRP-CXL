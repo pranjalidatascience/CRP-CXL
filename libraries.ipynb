{
 "cells": [
  {
   "cell_type": "markdown",
   "id": "f5840e54",
   "metadata": {},
   "source": [
    "INSTALLING LIBRARIES"
   ]
  },
  {
   "cell_type": "code",
   "execution_count": 1,
   "id": "d16760f3",
   "metadata": {},
   "outputs": [
    {
     "name": "stdout",
     "output_type": "stream",
     "text": [
      "Requirement already satisfied: openai in /usr/local/python/3.12.1/lib/python3.12/site-packages (1.86.0)\n",
      "Requirement already satisfied: anyio<5,>=3.5.0 in /home/codespace/.local/lib/python3.12/site-packages (from openai) (4.9.0)\n",
      "Requirement already satisfied: distro<2,>=1.7.0 in /usr/local/python/3.12.1/lib/python3.12/site-packages (from openai) (1.9.0)\n",
      "Requirement already satisfied: httpx<1,>=0.23.0 in /home/codespace/.local/lib/python3.12/site-packages (from openai) (0.28.1)\n",
      "Requirement already satisfied: jiter<1,>=0.4.0 in /usr/local/python/3.12.1/lib/python3.12/site-packages (from openai) (0.10.0)\n",
      "Requirement already satisfied: pydantic<3,>=1.9.0 in /usr/local/python/3.12.1/lib/python3.12/site-packages (from openai) (2.11.7)\n",
      "Requirement already satisfied: sniffio in /home/codespace/.local/lib/python3.12/site-packages (from openai) (1.3.1)\n",
      "Requirement already satisfied: tqdm>4 in /usr/local/python/3.12.1/lib/python3.12/site-packages (from openai) (4.67.1)\n",
      "Requirement already satisfied: typing-extensions<5,>=4.11 in /home/codespace/.local/lib/python3.12/site-packages (from openai) (4.12.2)\n",
      "Requirement already satisfied: idna>=2.8 in /home/codespace/.local/lib/python3.12/site-packages (from anyio<5,>=3.5.0->openai) (3.10)\n",
      "Requirement already satisfied: certifi in /home/codespace/.local/lib/python3.12/site-packages (from httpx<1,>=0.23.0->openai) (2025.1.31)\n",
      "Requirement already satisfied: httpcore==1.* in /home/codespace/.local/lib/python3.12/site-packages (from httpx<1,>=0.23.0->openai) (1.0.7)\n",
      "Requirement already satisfied: h11<0.15,>=0.13 in /home/codespace/.local/lib/python3.12/site-packages (from httpcore==1.*->httpx<1,>=0.23.0->openai) (0.14.0)\n",
      "Requirement already satisfied: annotated-types>=0.6.0 in /usr/local/python/3.12.1/lib/python3.12/site-packages (from pydantic<3,>=1.9.0->openai) (0.7.0)\n",
      "Requirement already satisfied: pydantic-core==2.33.2 in /usr/local/python/3.12.1/lib/python3.12/site-packages (from pydantic<3,>=1.9.0->openai) (2.33.2)\n",
      "Requirement already satisfied: typing-inspection>=0.4.0 in /usr/local/python/3.12.1/lib/python3.12/site-packages (from pydantic<3,>=1.9.0->openai) (0.4.1)\n",
      "\n",
      "\u001b[1m[\u001b[0m\u001b[34;49mnotice\u001b[0m\u001b[1;39;49m]\u001b[0m\u001b[39;49m A new release of pip is available: \u001b[0m\u001b[31;49m25.1.1\u001b[0m\u001b[39;49m -> \u001b[0m\u001b[32;49m25.2\u001b[0m\n",
      "\u001b[1m[\u001b[0m\u001b[34;49mnotice\u001b[0m\u001b[1;39;49m]\u001b[0m\u001b[39;49m To update, run: \u001b[0m\u001b[32;49mpython -m pip install --upgrade pip\u001b[0m\n",
      "Note: you may need to restart the kernel to use updated packages.\n"
     ]
    }
   ],
   "source": [
    "pip install openai"
   ]
  },
  {
   "cell_type": "code",
   "execution_count": 2,
   "id": "7a300c35",
   "metadata": {},
   "outputs": [
    {
     "name": "stdout",
     "output_type": "stream",
     "text": [
      "Requirement already satisfied: python-dotenv in /usr/local/python/3.12.1/lib/python3.12/site-packages (1.1.0)\n",
      "\n",
      "\u001b[1m[\u001b[0m\u001b[34;49mnotice\u001b[0m\u001b[1;39;49m]\u001b[0m\u001b[39;49m A new release of pip is available: \u001b[0m\u001b[31;49m25.1.1\u001b[0m\u001b[39;49m -> \u001b[0m\u001b[32;49m25.2\u001b[0m\n",
      "\u001b[1m[\u001b[0m\u001b[34;49mnotice\u001b[0m\u001b[1;39;49m]\u001b[0m\u001b[39;49m To update, run: \u001b[0m\u001b[32;49mpython -m pip install --upgrade pip\u001b[0m\n",
      "Note: you may need to restart the kernel to use updated packages.\n"
     ]
    }
   ],
   "source": [
    "pip install python-dotenv"
   ]
  },
  {
   "cell_type": "code",
   "execution_count": 3,
   "id": "763ee725",
   "metadata": {},
   "outputs": [
    {
     "name": "stdout",
     "output_type": "stream",
     "text": [
      "Requirement already satisfied: langchain in /usr/local/python/3.12.1/lib/python3.12/site-packages (0.3.25)\n",
      "Requirement already satisfied: langchain-core<1.0.0,>=0.3.58 in /usr/local/python/3.12.1/lib/python3.12/site-packages (from langchain) (0.3.65)\n",
      "Requirement already satisfied: langchain-text-splitters<1.0.0,>=0.3.8 in /usr/local/python/3.12.1/lib/python3.12/site-packages (from langchain) (0.3.8)\n",
      "Requirement already satisfied: langsmith<0.4,>=0.1.17 in /usr/local/python/3.12.1/lib/python3.12/site-packages (from langchain) (0.3.45)\n",
      "Requirement already satisfied: pydantic<3.0.0,>=2.7.4 in /usr/local/python/3.12.1/lib/python3.12/site-packages (from langchain) (2.11.7)\n",
      "Requirement already satisfied: SQLAlchemy<3,>=1.4 in /usr/local/python/3.12.1/lib/python3.12/site-packages (from langchain) (2.0.41)\n",
      "Requirement already satisfied: requests<3,>=2 in /home/codespace/.local/lib/python3.12/site-packages (from langchain) (2.32.3)\n",
      "Requirement already satisfied: PyYAML>=5.3 in /home/codespace/.local/lib/python3.12/site-packages (from langchain) (6.0.2)\n",
      "Requirement already satisfied: tenacity!=8.4.0,<10.0.0,>=8.1.0 in /usr/local/python/3.12.1/lib/python3.12/site-packages (from langchain-core<1.0.0,>=0.3.58->langchain) (9.1.2)\n",
      "Requirement already satisfied: jsonpatch<2.0,>=1.33 in /usr/local/python/3.12.1/lib/python3.12/site-packages (from langchain-core<1.0.0,>=0.3.58->langchain) (1.33)\n",
      "Requirement already satisfied: packaging<25,>=23.2 in /home/codespace/.local/lib/python3.12/site-packages (from langchain-core<1.0.0,>=0.3.58->langchain) (24.2)\n",
      "Requirement already satisfied: typing-extensions>=4.7 in /home/codespace/.local/lib/python3.12/site-packages (from langchain-core<1.0.0,>=0.3.58->langchain) (4.12.2)\n",
      "Requirement already satisfied: jsonpointer>=1.9 in /home/codespace/.local/lib/python3.12/site-packages (from jsonpatch<2.0,>=1.33->langchain-core<1.0.0,>=0.3.58->langchain) (3.0.0)\n",
      "Requirement already satisfied: httpx<1,>=0.23.0 in /home/codespace/.local/lib/python3.12/site-packages (from langsmith<0.4,>=0.1.17->langchain) (0.28.1)\n",
      "Requirement already satisfied: orjson<4.0.0,>=3.9.14 in /usr/local/python/3.12.1/lib/python3.12/site-packages (from langsmith<0.4,>=0.1.17->langchain) (3.10.18)\n",
      "Requirement already satisfied: requests-toolbelt<2.0.0,>=1.0.0 in /usr/local/python/3.12.1/lib/python3.12/site-packages (from langsmith<0.4,>=0.1.17->langchain) (1.0.0)\n",
      "Requirement already satisfied: zstandard<0.24.0,>=0.23.0 in /usr/local/python/3.12.1/lib/python3.12/site-packages (from langsmith<0.4,>=0.1.17->langchain) (0.23.0)\n",
      "Requirement already satisfied: anyio in /home/codespace/.local/lib/python3.12/site-packages (from httpx<1,>=0.23.0->langsmith<0.4,>=0.1.17->langchain) (4.9.0)\n",
      "Requirement already satisfied: certifi in /home/codespace/.local/lib/python3.12/site-packages (from httpx<1,>=0.23.0->langsmith<0.4,>=0.1.17->langchain) (2025.1.31)\n",
      "Requirement already satisfied: httpcore==1.* in /home/codespace/.local/lib/python3.12/site-packages (from httpx<1,>=0.23.0->langsmith<0.4,>=0.1.17->langchain) (1.0.7)\n",
      "Requirement already satisfied: idna in /home/codespace/.local/lib/python3.12/site-packages (from httpx<1,>=0.23.0->langsmith<0.4,>=0.1.17->langchain) (3.10)\n",
      "Requirement already satisfied: h11<0.15,>=0.13 in /home/codespace/.local/lib/python3.12/site-packages (from httpcore==1.*->httpx<1,>=0.23.0->langsmith<0.4,>=0.1.17->langchain) (0.14.0)\n",
      "Requirement already satisfied: annotated-types>=0.6.0 in /usr/local/python/3.12.1/lib/python3.12/site-packages (from pydantic<3.0.0,>=2.7.4->langchain) (0.7.0)\n",
      "Requirement already satisfied: pydantic-core==2.33.2 in /usr/local/python/3.12.1/lib/python3.12/site-packages (from pydantic<3.0.0,>=2.7.4->langchain) (2.33.2)\n",
      "Requirement already satisfied: typing-inspection>=0.4.0 in /usr/local/python/3.12.1/lib/python3.12/site-packages (from pydantic<3.0.0,>=2.7.4->langchain) (0.4.1)\n",
      "Requirement already satisfied: charset-normalizer<4,>=2 in /home/codespace/.local/lib/python3.12/site-packages (from requests<3,>=2->langchain) (3.4.1)\n",
      "Requirement already satisfied: urllib3<3,>=1.21.1 in /home/codespace/.local/lib/python3.12/site-packages (from requests<3,>=2->langchain) (2.3.0)\n",
      "Requirement already satisfied: greenlet>=1 in /usr/local/python/3.12.1/lib/python3.12/site-packages (from SQLAlchemy<3,>=1.4->langchain) (3.2.3)\n",
      "Requirement already satisfied: sniffio>=1.1 in /home/codespace/.local/lib/python3.12/site-packages (from anyio->httpx<1,>=0.23.0->langsmith<0.4,>=0.1.17->langchain) (1.3.1)\n",
      "\n",
      "\u001b[1m[\u001b[0m\u001b[34;49mnotice\u001b[0m\u001b[1;39;49m]\u001b[0m\u001b[39;49m A new release of pip is available: \u001b[0m\u001b[31;49m25.1.1\u001b[0m\u001b[39;49m -> \u001b[0m\u001b[32;49m25.2\u001b[0m\n",
      "\u001b[1m[\u001b[0m\u001b[34;49mnotice\u001b[0m\u001b[1;39;49m]\u001b[0m\u001b[39;49m To update, run: \u001b[0m\u001b[32;49mpython -m pip install --upgrade pip\u001b[0m\n",
      "Note: you may need to restart the kernel to use updated packages.\n"
     ]
    }
   ],
   "source": [
    "pip install langchain"
   ]
  },
  {
   "cell_type": "code",
   "execution_count": 4,
   "id": "aa600d3a",
   "metadata": {},
   "outputs": [
    {
     "name": "stdout",
     "output_type": "stream",
     "text": [
      "Requirement already satisfied: langchain-openai in /usr/local/python/3.12.1/lib/python3.12/site-packages (0.3.23)\n",
      "Requirement already satisfied: langchain-core<1.0.0,>=0.3.65 in /usr/local/python/3.12.1/lib/python3.12/site-packages (from langchain-openai) (0.3.65)\n",
      "Requirement already satisfied: openai<2.0.0,>=1.68.2 in /usr/local/python/3.12.1/lib/python3.12/site-packages (from langchain-openai) (1.86.0)\n",
      "Requirement already satisfied: tiktoken<1,>=0.7 in /usr/local/python/3.12.1/lib/python3.12/site-packages (from langchain-openai) (0.9.0)\n",
      "Requirement already satisfied: langsmith<0.4,>=0.3.45 in /usr/local/python/3.12.1/lib/python3.12/site-packages (from langchain-core<1.0.0,>=0.3.65->langchain-openai) (0.3.45)\n",
      "Requirement already satisfied: tenacity!=8.4.0,<10.0.0,>=8.1.0 in /usr/local/python/3.12.1/lib/python3.12/site-packages (from langchain-core<1.0.0,>=0.3.65->langchain-openai) (9.1.2)\n",
      "Requirement already satisfied: jsonpatch<2.0,>=1.33 in /usr/local/python/3.12.1/lib/python3.12/site-packages (from langchain-core<1.0.0,>=0.3.65->langchain-openai) (1.33)\n",
      "Requirement already satisfied: PyYAML>=5.3 in /home/codespace/.local/lib/python3.12/site-packages (from langchain-core<1.0.0,>=0.3.65->langchain-openai) (6.0.2)\n",
      "Requirement already satisfied: packaging<25,>=23.2 in /home/codespace/.local/lib/python3.12/site-packages (from langchain-core<1.0.0,>=0.3.65->langchain-openai) (24.2)\n",
      "Requirement already satisfied: typing-extensions>=4.7 in /home/codespace/.local/lib/python3.12/site-packages (from langchain-core<1.0.0,>=0.3.65->langchain-openai) (4.12.2)\n",
      "Requirement already satisfied: pydantic>=2.7.4 in /usr/local/python/3.12.1/lib/python3.12/site-packages (from langchain-core<1.0.0,>=0.3.65->langchain-openai) (2.11.7)\n",
      "Requirement already satisfied: jsonpointer>=1.9 in /home/codespace/.local/lib/python3.12/site-packages (from jsonpatch<2.0,>=1.33->langchain-core<1.0.0,>=0.3.65->langchain-openai) (3.0.0)\n",
      "Requirement already satisfied: httpx<1,>=0.23.0 in /home/codespace/.local/lib/python3.12/site-packages (from langsmith<0.4,>=0.3.45->langchain-core<1.0.0,>=0.3.65->langchain-openai) (0.28.1)\n",
      "Requirement already satisfied: orjson<4.0.0,>=3.9.14 in /usr/local/python/3.12.1/lib/python3.12/site-packages (from langsmith<0.4,>=0.3.45->langchain-core<1.0.0,>=0.3.65->langchain-openai) (3.10.18)\n",
      "Requirement already satisfied: requests<3,>=2 in /home/codespace/.local/lib/python3.12/site-packages (from langsmith<0.4,>=0.3.45->langchain-core<1.0.0,>=0.3.65->langchain-openai) (2.32.3)\n",
      "Requirement already satisfied: requests-toolbelt<2.0.0,>=1.0.0 in /usr/local/python/3.12.1/lib/python3.12/site-packages (from langsmith<0.4,>=0.3.45->langchain-core<1.0.0,>=0.3.65->langchain-openai) (1.0.0)\n",
      "Requirement already satisfied: zstandard<0.24.0,>=0.23.0 in /usr/local/python/3.12.1/lib/python3.12/site-packages (from langsmith<0.4,>=0.3.45->langchain-core<1.0.0,>=0.3.65->langchain-openai) (0.23.0)\n",
      "Requirement already satisfied: anyio in /home/codespace/.local/lib/python3.12/site-packages (from httpx<1,>=0.23.0->langsmith<0.4,>=0.3.45->langchain-core<1.0.0,>=0.3.65->langchain-openai) (4.9.0)\n",
      "Requirement already satisfied: certifi in /home/codespace/.local/lib/python3.12/site-packages (from httpx<1,>=0.23.0->langsmith<0.4,>=0.3.45->langchain-core<1.0.0,>=0.3.65->langchain-openai) (2025.1.31)\n",
      "Requirement already satisfied: httpcore==1.* in /home/codespace/.local/lib/python3.12/site-packages (from httpx<1,>=0.23.0->langsmith<0.4,>=0.3.45->langchain-core<1.0.0,>=0.3.65->langchain-openai) (1.0.7)\n",
      "Requirement already satisfied: idna in /home/codespace/.local/lib/python3.12/site-packages (from httpx<1,>=0.23.0->langsmith<0.4,>=0.3.45->langchain-core<1.0.0,>=0.3.65->langchain-openai) (3.10)\n",
      "Requirement already satisfied: h11<0.15,>=0.13 in /home/codespace/.local/lib/python3.12/site-packages (from httpcore==1.*->httpx<1,>=0.23.0->langsmith<0.4,>=0.3.45->langchain-core<1.0.0,>=0.3.65->langchain-openai) (0.14.0)\n",
      "Requirement already satisfied: distro<2,>=1.7.0 in /usr/local/python/3.12.1/lib/python3.12/site-packages (from openai<2.0.0,>=1.68.2->langchain-openai) (1.9.0)\n",
      "Requirement already satisfied: jiter<1,>=0.4.0 in /usr/local/python/3.12.1/lib/python3.12/site-packages (from openai<2.0.0,>=1.68.2->langchain-openai) (0.10.0)\n",
      "Requirement already satisfied: sniffio in /home/codespace/.local/lib/python3.12/site-packages (from openai<2.0.0,>=1.68.2->langchain-openai) (1.3.1)\n",
      "Requirement already satisfied: tqdm>4 in /usr/local/python/3.12.1/lib/python3.12/site-packages (from openai<2.0.0,>=1.68.2->langchain-openai) (4.67.1)\n",
      "Requirement already satisfied: annotated-types>=0.6.0 in /usr/local/python/3.12.1/lib/python3.12/site-packages (from pydantic>=2.7.4->langchain-core<1.0.0,>=0.3.65->langchain-openai) (0.7.0)\n",
      "Requirement already satisfied: pydantic-core==2.33.2 in /usr/local/python/3.12.1/lib/python3.12/site-packages (from pydantic>=2.7.4->langchain-core<1.0.0,>=0.3.65->langchain-openai) (2.33.2)\n",
      "Requirement already satisfied: typing-inspection>=0.4.0 in /usr/local/python/3.12.1/lib/python3.12/site-packages (from pydantic>=2.7.4->langchain-core<1.0.0,>=0.3.65->langchain-openai) (0.4.1)\n",
      "Requirement already satisfied: charset-normalizer<4,>=2 in /home/codespace/.local/lib/python3.12/site-packages (from requests<3,>=2->langsmith<0.4,>=0.3.45->langchain-core<1.0.0,>=0.3.65->langchain-openai) (3.4.1)\n",
      "Requirement already satisfied: urllib3<3,>=1.21.1 in /home/codespace/.local/lib/python3.12/site-packages (from requests<3,>=2->langsmith<0.4,>=0.3.45->langchain-core<1.0.0,>=0.3.65->langchain-openai) (2.3.0)\n",
      "Requirement already satisfied: regex>=2022.1.18 in /usr/local/python/3.12.1/lib/python3.12/site-packages (from tiktoken<1,>=0.7->langchain-openai) (2024.11.6)\n",
      "\n",
      "\u001b[1m[\u001b[0m\u001b[34;49mnotice\u001b[0m\u001b[1;39;49m]\u001b[0m\u001b[39;49m A new release of pip is available: \u001b[0m\u001b[31;49m25.1.1\u001b[0m\u001b[39;49m -> \u001b[0m\u001b[32;49m25.2\u001b[0m\n",
      "\u001b[1m[\u001b[0m\u001b[34;49mnotice\u001b[0m\u001b[1;39;49m]\u001b[0m\u001b[39;49m To update, run: \u001b[0m\u001b[32;49mpython -m pip install --upgrade pip\u001b[0m\n",
      "Note: you may need to restart the kernel to use updated packages.\n"
     ]
    }
   ],
   "source": [
    "pip install langchain-openai"
   ]
  },
  {
   "cell_type": "code",
   "execution_count": 5,
   "id": "9a3522c7",
   "metadata": {},
   "outputs": [
    {
     "name": "stdout",
     "output_type": "stream",
     "text": [
      "Requirement already satisfied: pypdf in /usr/local/python/3.12.1/lib/python3.12/site-packages (5.6.0)\n",
      "\n",
      "\u001b[1m[\u001b[0m\u001b[34;49mnotice\u001b[0m\u001b[1;39;49m]\u001b[0m\u001b[39;49m A new release of pip is available: \u001b[0m\u001b[31;49m25.1.1\u001b[0m\u001b[39;49m -> \u001b[0m\u001b[32;49m25.2\u001b[0m\n",
      "\u001b[1m[\u001b[0m\u001b[34;49mnotice\u001b[0m\u001b[1;39;49m]\u001b[0m\u001b[39;49m To update, run: \u001b[0m\u001b[32;49mpython -m pip install --upgrade pip\u001b[0m\n",
      "Note: you may need to restart the kernel to use updated packages.\n"
     ]
    }
   ],
   "source": [
    "pip install pypdf"
   ]
  },
  {
   "cell_type": "code",
   "execution_count": 6,
   "id": "fe682f82",
   "metadata": {},
   "outputs": [
    {
     "name": "stdout",
     "output_type": "stream",
     "text": [
      "Requirement already satisfied: faiss-cpu in /usr/local/python/3.12.1/lib/python3.12/site-packages (1.11.0)\n",
      "Requirement already satisfied: numpy<3.0,>=1.25.0 in /usr/local/python/3.12.1/lib/python3.12/site-packages (from faiss-cpu) (1.26.4)\n",
      "Requirement already satisfied: packaging in /home/codespace/.local/lib/python3.12/site-packages (from faiss-cpu) (24.2)\n",
      "\n",
      "\u001b[1m[\u001b[0m\u001b[34;49mnotice\u001b[0m\u001b[1;39;49m]\u001b[0m\u001b[39;49m A new release of pip is available: \u001b[0m\u001b[31;49m25.1.1\u001b[0m\u001b[39;49m -> \u001b[0m\u001b[32;49m25.2\u001b[0m\n",
      "\u001b[1m[\u001b[0m\u001b[34;49mnotice\u001b[0m\u001b[1;39;49m]\u001b[0m\u001b[39;49m To update, run: \u001b[0m\u001b[32;49mpython -m pip install --upgrade pip\u001b[0m\n",
      "Note: you may need to restart the kernel to use updated packages.\n"
     ]
    }
   ],
   "source": [
    "pip install faiss-cpu"
   ]
  },
  {
   "cell_type": "code",
   "execution_count": 7,
   "id": "f43cec4e",
   "metadata": {},
   "outputs": [
    {
     "name": "stdout",
     "output_type": "stream",
     "text": [
      "Requirement already satisfied: langchainhub in /usr/local/python/3.12.1/lib/python3.12/site-packages (0.1.21)\n",
      "Requirement already satisfied: packaging<25,>=23.2 in /home/codespace/.local/lib/python3.12/site-packages (from langchainhub) (24.2)\n",
      "Requirement already satisfied: requests<3,>=2 in /home/codespace/.local/lib/python3.12/site-packages (from langchainhub) (2.32.3)\n",
      "Requirement already satisfied: types-requests<3.0.0.0,>=2.31.0.2 in /usr/local/python/3.12.1/lib/python3.12/site-packages (from langchainhub) (2.32.4.20250611)\n",
      "Requirement already satisfied: charset-normalizer<4,>=2 in /home/codespace/.local/lib/python3.12/site-packages (from requests<3,>=2->langchainhub) (3.4.1)\n",
      "Requirement already satisfied: idna<4,>=2.5 in /home/codespace/.local/lib/python3.12/site-packages (from requests<3,>=2->langchainhub) (3.10)\n",
      "Requirement already satisfied: urllib3<3,>=1.21.1 in /home/codespace/.local/lib/python3.12/site-packages (from requests<3,>=2->langchainhub) (2.3.0)\n",
      "Requirement already satisfied: certifi>=2017.4.17 in /home/codespace/.local/lib/python3.12/site-packages (from requests<3,>=2->langchainhub) (2025.1.31)\n",
      "\n",
      "\u001b[1m[\u001b[0m\u001b[34;49mnotice\u001b[0m\u001b[1;39;49m]\u001b[0m\u001b[39;49m A new release of pip is available: \u001b[0m\u001b[31;49m25.1.1\u001b[0m\u001b[39;49m -> \u001b[0m\u001b[32;49m25.2\u001b[0m\n",
      "\u001b[1m[\u001b[0m\u001b[34;49mnotice\u001b[0m\u001b[1;39;49m]\u001b[0m\u001b[39;49m To update, run: \u001b[0m\u001b[32;49mpython -m pip install --upgrade pip\u001b[0m\n",
      "Note: you may need to restart the kernel to use updated packages.\n"
     ]
    }
   ],
   "source": [
    "pip install langchainhub"
   ]
  },
  {
   "cell_type": "code",
   "execution_count": 8,
   "id": "d8782fab",
   "metadata": {},
   "outputs": [
    {
     "name": "stdout",
     "output_type": "stream",
     "text": [
      "Requirement already satisfied: langchain-community in /usr/local/python/3.12.1/lib/python3.12/site-packages (0.3.25)\n",
      "Requirement already satisfied: langchain-core<1.0.0,>=0.3.65 in /usr/local/python/3.12.1/lib/python3.12/site-packages (from langchain-community) (0.3.65)\n",
      "Requirement already satisfied: langchain<1.0.0,>=0.3.25 in /usr/local/python/3.12.1/lib/python3.12/site-packages (from langchain-community) (0.3.25)\n",
      "Requirement already satisfied: SQLAlchemy<3,>=1.4 in /usr/local/python/3.12.1/lib/python3.12/site-packages (from langchain-community) (2.0.41)\n",
      "Requirement already satisfied: requests<3,>=2 in /home/codespace/.local/lib/python3.12/site-packages (from langchain-community) (2.32.3)\n",
      "Requirement already satisfied: PyYAML>=5.3 in /home/codespace/.local/lib/python3.12/site-packages (from langchain-community) (6.0.2)\n",
      "Requirement already satisfied: aiohttp<4.0.0,>=3.8.3 in /usr/local/python/3.12.1/lib/python3.12/site-packages (from langchain-community) (3.12.12)\n",
      "Requirement already satisfied: tenacity!=8.4.0,<10,>=8.1.0 in /usr/local/python/3.12.1/lib/python3.12/site-packages (from langchain-community) (9.1.2)\n",
      "Requirement already satisfied: dataclasses-json<0.7,>=0.5.7 in /usr/local/python/3.12.1/lib/python3.12/site-packages (from langchain-community) (0.6.7)\n",
      "Requirement already satisfied: pydantic-settings<3.0.0,>=2.4.0 in /usr/local/python/3.12.1/lib/python3.12/site-packages (from langchain-community) (2.9.1)\n",
      "Requirement already satisfied: langsmith<0.4,>=0.1.125 in /usr/local/python/3.12.1/lib/python3.12/site-packages (from langchain-community) (0.3.45)\n",
      "Requirement already satisfied: httpx-sse<1.0.0,>=0.4.0 in /usr/local/python/3.12.1/lib/python3.12/site-packages (from langchain-community) (0.4.0)\n",
      "Requirement already satisfied: numpy>=1.26.2 in /usr/local/python/3.12.1/lib/python3.12/site-packages (from langchain-community) (1.26.4)\n",
      "Requirement already satisfied: aiohappyeyeballs>=2.5.0 in /usr/local/python/3.12.1/lib/python3.12/site-packages (from aiohttp<4.0.0,>=3.8.3->langchain-community) (2.6.1)\n",
      "Requirement already satisfied: aiosignal>=1.1.2 in /usr/local/python/3.12.1/lib/python3.12/site-packages (from aiohttp<4.0.0,>=3.8.3->langchain-community) (1.3.2)\n",
      "Requirement already satisfied: attrs>=17.3.0 in /home/codespace/.local/lib/python3.12/site-packages (from aiohttp<4.0.0,>=3.8.3->langchain-community) (25.3.0)\n",
      "Requirement already satisfied: frozenlist>=1.1.1 in /usr/local/python/3.12.1/lib/python3.12/site-packages (from aiohttp<4.0.0,>=3.8.3->langchain-community) (1.7.0)\n",
      "Requirement already satisfied: multidict<7.0,>=4.5 in /usr/local/python/3.12.1/lib/python3.12/site-packages (from aiohttp<4.0.0,>=3.8.3->langchain-community) (6.4.4)\n",
      "Requirement already satisfied: propcache>=0.2.0 in /usr/local/python/3.12.1/lib/python3.12/site-packages (from aiohttp<4.0.0,>=3.8.3->langchain-community) (0.3.2)\n",
      "Requirement already satisfied: yarl<2.0,>=1.17.0 in /usr/local/python/3.12.1/lib/python3.12/site-packages (from aiohttp<4.0.0,>=3.8.3->langchain-community) (1.20.1)\n",
      "Requirement already satisfied: marshmallow<4.0.0,>=3.18.0 in /usr/local/python/3.12.1/lib/python3.12/site-packages (from dataclasses-json<0.7,>=0.5.7->langchain-community) (3.26.1)\n",
      "Requirement already satisfied: typing-inspect<1,>=0.4.0 in /usr/local/python/3.12.1/lib/python3.12/site-packages (from dataclasses-json<0.7,>=0.5.7->langchain-community) (0.9.0)\n",
      "Requirement already satisfied: langchain-text-splitters<1.0.0,>=0.3.8 in /usr/local/python/3.12.1/lib/python3.12/site-packages (from langchain<1.0.0,>=0.3.25->langchain-community) (0.3.8)\n",
      "Requirement already satisfied: pydantic<3.0.0,>=2.7.4 in /usr/local/python/3.12.1/lib/python3.12/site-packages (from langchain<1.0.0,>=0.3.25->langchain-community) (2.11.7)\n",
      "Requirement already satisfied: jsonpatch<2.0,>=1.33 in /usr/local/python/3.12.1/lib/python3.12/site-packages (from langchain-core<1.0.0,>=0.3.65->langchain-community) (1.33)\n",
      "Requirement already satisfied: packaging<25,>=23.2 in /home/codespace/.local/lib/python3.12/site-packages (from langchain-core<1.0.0,>=0.3.65->langchain-community) (24.2)\n",
      "Requirement already satisfied: typing-extensions>=4.7 in /home/codespace/.local/lib/python3.12/site-packages (from langchain-core<1.0.0,>=0.3.65->langchain-community) (4.12.2)\n",
      "Requirement already satisfied: jsonpointer>=1.9 in /home/codespace/.local/lib/python3.12/site-packages (from jsonpatch<2.0,>=1.33->langchain-core<1.0.0,>=0.3.65->langchain-community) (3.0.0)\n",
      "Requirement already satisfied: httpx<1,>=0.23.0 in /home/codespace/.local/lib/python3.12/site-packages (from langsmith<0.4,>=0.1.125->langchain-community) (0.28.1)\n",
      "Requirement already satisfied: orjson<4.0.0,>=3.9.14 in /usr/local/python/3.12.1/lib/python3.12/site-packages (from langsmith<0.4,>=0.1.125->langchain-community) (3.10.18)\n",
      "Requirement already satisfied: requests-toolbelt<2.0.0,>=1.0.0 in /usr/local/python/3.12.1/lib/python3.12/site-packages (from langsmith<0.4,>=0.1.125->langchain-community) (1.0.0)\n",
      "Requirement already satisfied: zstandard<0.24.0,>=0.23.0 in /usr/local/python/3.12.1/lib/python3.12/site-packages (from langsmith<0.4,>=0.1.125->langchain-community) (0.23.0)\n",
      "Requirement already satisfied: anyio in /home/codespace/.local/lib/python3.12/site-packages (from httpx<1,>=0.23.0->langsmith<0.4,>=0.1.125->langchain-community) (4.9.0)\n",
      "Requirement already satisfied: certifi in /home/codespace/.local/lib/python3.12/site-packages (from httpx<1,>=0.23.0->langsmith<0.4,>=0.1.125->langchain-community) (2025.1.31)\n",
      "Requirement already satisfied: httpcore==1.* in /home/codespace/.local/lib/python3.12/site-packages (from httpx<1,>=0.23.0->langsmith<0.4,>=0.1.125->langchain-community) (1.0.7)\n",
      "Requirement already satisfied: idna in /home/codespace/.local/lib/python3.12/site-packages (from httpx<1,>=0.23.0->langsmith<0.4,>=0.1.125->langchain-community) (3.10)\n",
      "Requirement already satisfied: h11<0.15,>=0.13 in /home/codespace/.local/lib/python3.12/site-packages (from httpcore==1.*->httpx<1,>=0.23.0->langsmith<0.4,>=0.1.125->langchain-community) (0.14.0)\n",
      "Requirement already satisfied: annotated-types>=0.6.0 in /usr/local/python/3.12.1/lib/python3.12/site-packages (from pydantic<3.0.0,>=2.7.4->langchain<1.0.0,>=0.3.25->langchain-community) (0.7.0)\n",
      "Requirement already satisfied: pydantic-core==2.33.2 in /usr/local/python/3.12.1/lib/python3.12/site-packages (from pydantic<3.0.0,>=2.7.4->langchain<1.0.0,>=0.3.25->langchain-community) (2.33.2)\n",
      "Requirement already satisfied: typing-inspection>=0.4.0 in /usr/local/python/3.12.1/lib/python3.12/site-packages (from pydantic<3.0.0,>=2.7.4->langchain<1.0.0,>=0.3.25->langchain-community) (0.4.1)\n",
      "Requirement already satisfied: python-dotenv>=0.21.0 in /usr/local/python/3.12.1/lib/python3.12/site-packages (from pydantic-settings<3.0.0,>=2.4.0->langchain-community) (1.1.0)\n",
      "Requirement already satisfied: charset-normalizer<4,>=2 in /home/codespace/.local/lib/python3.12/site-packages (from requests<3,>=2->langchain-community) (3.4.1)\n",
      "Requirement already satisfied: urllib3<3,>=1.21.1 in /home/codespace/.local/lib/python3.12/site-packages (from requests<3,>=2->langchain-community) (2.3.0)\n",
      "Requirement already satisfied: greenlet>=1 in /usr/local/python/3.12.1/lib/python3.12/site-packages (from SQLAlchemy<3,>=1.4->langchain-community) (3.2.3)\n",
      "Requirement already satisfied: mypy-extensions>=0.3.0 in /usr/local/python/3.12.1/lib/python3.12/site-packages (from typing-inspect<1,>=0.4.0->dataclasses-json<0.7,>=0.5.7->langchain-community) (1.1.0)\n",
      "Requirement already satisfied: sniffio>=1.1 in /home/codespace/.local/lib/python3.12/site-packages (from anyio->httpx<1,>=0.23.0->langsmith<0.4,>=0.1.125->langchain-community) (1.3.1)\n",
      "\n",
      "\u001b[1m[\u001b[0m\u001b[34;49mnotice\u001b[0m\u001b[1;39;49m]\u001b[0m\u001b[39;49m A new release of pip is available: \u001b[0m\u001b[31;49m25.1.1\u001b[0m\u001b[39;49m -> \u001b[0m\u001b[32;49m25.2\u001b[0m\n",
      "\u001b[1m[\u001b[0m\u001b[34;49mnotice\u001b[0m\u001b[1;39;49m]\u001b[0m\u001b[39;49m To update, run: \u001b[0m\u001b[32;49mpython -m pip install --upgrade pip\u001b[0m\n",
      "Note: you may need to restart the kernel to use updated packages.\n"
     ]
    }
   ],
   "source": [
    "pip install langchain-community"
   ]
  },
  {
   "cell_type": "markdown",
   "id": "5b54aec2",
   "metadata": {},
   "source": [
    "Load Documents"
   ]
  },
  {
   "cell_type": "code",
   "execution_count": null,
   "id": "26a1c88e",
   "metadata": {},
   "outputs": [],
   "source": [
    "from langchain_community.document_loaders import PyPDFLoader\n",
    "\n",
    "# Load PDF\n",
    "loaders = [\n",
    "    PyPDFLoader(\"/workspaces/CRP-CXL/data/AgricuturePollutionAndRegulationHowToSubsidizeAgriculture.pdf\"),\n",
    "    PyPDFLoader(\"/workspaces/CRP-CXL/data/AgricuturePollutionAndWaterwaysOnTheIslandOfIrelandTowardsEffectivePolicySolutions.pdf\"),\n",
    "    PyPDFLoader(\"/workspaces/CRP-CXL/data/AgricuturePollutionSourcesAndPathways.pdf\"),\n",
    "    PyPDFLoader(\"/workspaces/CRP-CXL/data/AgrochemicalsInSoilAndEnvironment.pdf\"),\n",
    "    PyPDFLoader(\"/workspaces/CRP-CXL/data/BiomediationAndNanotechnologyForClimateChangeMitigation.pdf\"),\n",
    "    PyPDFLoader(\"/workspaces/CRP-CXL/data/CombiningTheSeedEndophyticBacteriaAndTheBackToTheFutureApproachesForPlantHolonbiontBreeding.pdf\"),\n",
    "    PyPDFLoader(\"/workspaces/CRP-CXL/data/CommunityEcologyStableIsotopeEcologyAndTaxonomyOfSmallMammalFossilsFromRanchoLaBrea.pdf\"),\n",
    "    PyPDFLoader(\"/workspaces/CRP-CXL/data/DivergentImportanceAndGeographicPatternsInThreatsToBirdsAndMammalsInChina.pdf\"),\n",
    "    PyPDFLoader(\"/workspaces/CRP-CXL/data/ExtinctionRiskOfTheWorldsFreshwaterMammals.pdf\"),\n",
    "    PyPDFLoader(\"/workspaces/CRP-CXL/data/HumanWildlifeInteractionPastPresentAndFuture.pdf\"),\n",
    "    PyPDFLoader(\"/workspaces/CRP-CXL/data/HydrogeochemicalCharacteristicsSourceDistributionAndHelathRiskOfHighFluorideGroundwaterInSwabi.pdf\"),\n",
    "    PyPDFLoader(\"/workspaces/CRP-CXL/data/ImprovementsOfCropsInTheEraOfClimateChanges.pdf\"),\n",
    "    PyPDFLoader(\"/workspaces/CRP-CXL/data/IntelligentSystemsandMachineLearningforIndustry.pdf\"),\n",
    "    PyPDFLoader(\"/workspaces/CRP-CXL/data/InversionOfMultiConfigurationComplexEMIDataWithMinimumGradientSupportRegularization.pdf\"),\n",
    "    PyPDFLoader(\"/workspaces/CRP-CXL/data/LivingAndDeadOstracodAssemblagesInACoastalMediterraneanWetland.pdf\"),\n",
    "    PyPDFLoader(\"/workspaces/CRP-CXL/data/OrchestratingTheOceanUsingANationalOceanPolicyTheCaseOfSolomonIslands.pdf\"),\n",
    "    PyPDFLoader(\"/workspaces/CRP-CXL/data/PerspectivesOnEmergingPressuresAndTheirIntegratedImpactOnLargeRiverSystems.pdf\"),\n",
    "    PyPDFLoader(\"/workspaces/CRP-CXL/data/PollutionProblemsInTheEconomicAgricuturalSectionEvaluatingTheImaoctOnNaturalResourcesAndSolutionsForImprovement.pdf\"),\n",
    "    PyPDFLoader(\"/workspaces/CRP-CXL/data/TheEnvironmentalImpactsOfLandTransformationInTheCoastalPerimeterOfTheMarMenorLagoon.pdf\"),\n",
    "    PyPDFLoader(\"/workspaces/CRP-CXL/data/VulnerabilityAssessmentAndProtectionZoneDelineationForWaterSupplySchemesInTheUpperAwashSubbasinEthiopia.pdf\"),\n",
    "    PyPDFLoader(\"/workspaces/CRP-CXL/data/ConservationEvidence/AmphibianConservation.pdf\"),\n",
    "    PyPDFLoader(\"/workspaces/CRP-CXL/data/ConservationEvidence/BatConservation.pdf\"),\n",
    "    PyPDFLoader(\"/workspaces/CRP-CXL/data/ConservationEvidence/BeeConservation.pdf\"),\n",
    "    PyPDFLoader(\"/workspaces/CRP-CXL/data/ConservationEvidence/BirdConservation.pdf\"),\n",
    "    PyPDFLoader(\"/workspaces/CRP-CXL/data/ConservationEvidence/ButterflyAndMothConservation.pdf\"),\n",
    "    PyPDFLoader(\"/workspaces/CRP-CXL/data/ConservationEvidence/ControlOfFreshwaterInvasiveSpecies.pdf\"),\n",
    "    PyPDFLoader(\"/workspaces/CRP-CXL/data/ConservationEvidence/CoralConservation.pdf\"),\n",
    "    PyPDFLoader(\"/workspaces/CRP-CXL/data/ConservationEvidence/EelConservation.pdf\"),\n",
    "    PyPDFLoader(\"/workspaces/CRP-CXL/data/ConservationEvidence/EnhancingNaturalPestControlAsAnEcosystemService.pdf\"),\n",
    "    PyPDFLoader(\"/workspaces/CRP-CXL/data/ConservationEvidence/EnhancingSoilFertilityAsAnEcosystemService.pdf\"),\n",
    "    PyPDFLoader(\"/workspaces/CRP-CXL/data/ConservationEvidence/EnhancingTheBiodiversityOfMarineArtificialStructures.pdf\"),\n",
    "    PyPDFLoader(\"/workspaces/CRP-CXL/data/ConservationEvidence/FarmlandConservation.pdf\"),\n",
    "    PyPDFLoader(\"/workspaces/CRP-CXL/data/ConservationEvidence/ForestConservation.pdf\"),\n",
    "    PyPDFLoader(\"/workspaces/CRP-CXL/data/ConservationEvidence/GrasslandConservation.pdf\"),\n",
    "    PyPDFLoader(\"/workspaces/CRP-CXL/data/ConservationEvidence/ManagementOfCaptiveAnimals.pdf\"),\n",
    "    PyPDFLoader(\"/workspaces/CRP-CXL/data/ConservationEvidence/MarineAndFreshwaterMammalConservation.pdf\"),\n",
    "    PyPDFLoader(\"/workspaces/CRP-CXL/data/ConservationEvidence/MarineFishConservation.pdf\"),\n",
    "    PyPDFLoader(\"/workspaces/CRP-CXL/data/ConservationEvidence/MarshAndSwampConservation.pdf\"),\n",
    "    PyPDFLoader(\"/workspaces/CRP-CXL/data/ConservationEvidence/PeatlandConservation.pdf\"),\n",
    "    PyPDFLoader(\"/workspaces/CRP-CXL/data/ConservationEvidence/PrimateConservation.pdf\"),\n",
    "    PyPDFLoader(\"/workspaces/CRP-CXL/data/ConservationEvidence/ReptileConservation.pdf\"),\n",
    "    PyPDFLoader(\"/workspaces/CRP-CXL/data/ConservationEvidence/ShrublandConservation.pdf\"),\n",
    "    PyPDFLoader(\"/workspaces/CRP-CXL/data/ConservationEvidence/SubtidalBenthicInvertebrateConservation.pdf\"),\n",
    "    PyPDFLoader(\"/workspaces/CRP-CXL/data/ConservationEvidence/SustainableAgricultureInCaliforniaAndMediterraneanClimates.pdf\"),\n",
    "    PyPDFLoader(\"/workspaces/CRP-CXL/data/ConservationEvidence/SustainableAquaculture.pdf\"),\n",
    "    PyPDFLoader(\"/workspaces/CRP-CXL/data/ConservationEvidence/TerrestrialMammalConservation.pdf\")]\n",
    "\n",
    "docs = []\n",
    "\n",
    "for loader in loaders:\n",
    "    docs.extend(loader.load())"
   ]
  },
  {
   "cell_type": "code",
   "execution_count": 1,
   "id": "f0268487",
   "metadata": {},
   "outputs": [
    {
     "ename": "NameError",
     "evalue": "name 'docs' is not defined",
     "output_type": "error",
     "traceback": [
      "\u001b[31m---------------------------------------------------------------------------\u001b[39m",
      "\u001b[31mNameError\u001b[39m                                 Traceback (most recent call last)",
      "\u001b[36mCell\u001b[39m\u001b[36m \u001b[39m\u001b[32mIn[1]\u001b[39m\u001b[32m, line 1\u001b[39m\n\u001b[32m----> \u001b[39m\u001b[32m1\u001b[39m \u001b[38;5;28mlen\u001b[39m(\u001b[43mdocs\u001b[49m)\n",
      "\u001b[31mNameError\u001b[39m: name 'docs' is not defined"
     ]
    }
   ],
   "source": [
    "len(docs)"
   ]
  },
  {
   "cell_type": "code",
   "execution_count": 11,
   "id": "4cfe7f8b",
   "metadata": {},
   "outputs": [],
   "source": [
    "from langchain.text_splitter import CharacterTextSplitter\n",
    "text_splitter = CharacterTextSplitter(\n",
    "    separator=\"\\n\",\n",
    "    chunk_size=1000,\n",
    "    chunk_overlap=150,\n",
    "    length_function=len\n",
    ")"
   ]
  },
  {
   "cell_type": "code",
   "execution_count": 12,
   "id": "0255eefc",
   "metadata": {},
   "outputs": [],
   "source": [
    "pages = text_splitter.split_documents(docs)"
   ]
  },
  {
   "cell_type": "code",
   "execution_count": 13,
   "id": "95827daf",
   "metadata": {},
   "outputs": [
    {
     "data": {
      "text/plain": [
       "43139"
      ]
     },
     "execution_count": 13,
     "metadata": {},
     "output_type": "execute_result"
    }
   ],
   "source": [
    "len(pages)"
   ]
  },
  {
   "cell_type": "code",
   "execution_count": 14,
   "id": "a5858280",
   "metadata": {},
   "outputs": [
    {
     "data": {
      "text/plain": [
       "'ð3 þ 2gaÞ2 : (14)\\nBased on equation(11)e(14), we getProposition 3.\\nProposition 3. dPS\\ndg <0, dPS\\nda <0, dPS\\ndt <0, dPS\\nds >0; dCS\\ndg <0, dCS\\nda <0, dCS\\ndt <0,\\ndCS\\nds >0; djGBj\\ndg <0, djGBj\\nda <0, djGBj\\ndt <0, djGBj\\nds >0; dSW\\ndg <0, dSW\\nda <0, dSW\\ndt <0,\\ndSW\\nds >0.\\nProof. The proof of Proposition 3 is almost the same as that of\\nProposition 1so we omit it here.\\nRemarks The conclusions ofProposition 3indicate that producer\\nsurplus, consumer surplus, government budget (costs), and social\\nwelfare all decrease with the importance of environment to consumer,\\nmarginal emission, and marginal tax but increase with agricultural\\nsubsidy. Although emission tax inhibits agricultural pollution, it also\\ndecreases consumer surplus, producer surplus, and total social wel-\\nfare. Therefore, the government should make a trade-off between the\\nnegative effects and positive effects of pollution tax by carrying out a\\nsuitable tax rate. The effects of agricultural subsidy are just contrary to'"
      ]
     },
     "execution_count": 14,
     "metadata": {},
     "output_type": "execute_result"
    }
   ],
   "source": [
    "pages[24].page_content"
   ]
  },
  {
   "cell_type": "markdown",
   "id": "11ddd055",
   "metadata": {},
   "source": [
    "EMBEDDING LIST OF TEXTS"
   ]
  },
  {
   "cell_type": "code",
   "execution_count": 15,
   "id": "609452bb",
   "metadata": {},
   "outputs": [],
   "source": [
    "import os\n",
    "\n",
    "from dotenv import load_dotenv, find_dotenv\n",
    "_ = load_dotenv(find_dotenv()) # read local .env file"
   ]
  },
  {
   "cell_type": "code",
   "execution_count": 16,
   "id": "02ce3d7b",
   "metadata": {},
   "outputs": [],
   "source": [
    "OPENAI_API_KEY=os.environ['OPENAI_API_KEY']"
   ]
  },
  {
   "cell_type": "code",
   "execution_count": 17,
   "id": "06235317",
   "metadata": {},
   "outputs": [],
   "source": [
    "from langchain_openai import OpenAIEmbeddings\n",
    "\n",
    "embeddings_model = OpenAIEmbeddings(openai_api_key=OPENAI_API_KEY, model=\"text-embedding-3-small\")"
   ]
  },
  {
   "cell_type": "markdown",
   "id": "7dabd92e",
   "metadata": {},
   "source": [
    "STORE THE EMBEDDINGS IN THE VECTOR DATABASE"
   ]
  },
  {
   "cell_type": "code",
   "execution_count": null,
   "id": "9208ba90",
   "metadata": {},
   "outputs": [],
   "source": [
    "from langchain_community.vectorstores import FAISS\n",
    "\n",
    "vectordb = FAISS.from_documents(pages, embeddings_model)\n",
    "#print(vectordb.index.ntotal)"
   ]
  },
  {
   "cell_type": "code",
   "execution_count": null,
   "id": "7b771614",
   "metadata": {},
   "outputs": [
    {
     "ename": "NameError",
     "evalue": "name 'vectordb' is not defined",
     "output_type": "error",
     "traceback": [
      "\u001b[31m---------------------------------------------------------------------------\u001b[39m",
      "\u001b[31mNameError\u001b[39m                                 Traceback (most recent call last)",
      "\u001b[36mCell\u001b[39m\u001b[36m \u001b[39m\u001b[32mIn[4]\u001b[39m\u001b[32m, line 1\u001b[39m\n\u001b[32m----> \u001b[39m\u001b[32m1\u001b[39m \u001b[43mvectordb\u001b[49m.save_local(\u001b[33m\"\u001b[39m\u001b[33m../faiss_index\u001b[39m\u001b[33m\"\u001b[39m)\n",
      "\u001b[31mNameError\u001b[39m: name 'vectordb' is not defined"
     ]
    }
   ],
   "source": [
    "vectordb.save_local(\"../faiss_index\")"
   ]
  },
  {
   "cell_type": "code",
   "execution_count": null,
   "id": "6a80fc9a",
   "metadata": {},
   "outputs": [],
   "source": [
    "from langchain_openai import OpenAIEmbeddings\n",
    "from langchain_community.vectorstores import FAISS\n",
    "\n",
    "\n",
    "db = FAISS.load_local(\"../faiss_index\", \n",
    "                      OpenAIEmbeddings(openai_api_key=OPENAI_API_KEY, model=\"text-embedding-3-small\"), \n",
    "                      allow_dangerous_deserialization=True)"
   ]
  },
  {
   "cell_type": "code",
   "execution_count": null,
   "id": "894078c0",
   "metadata": {},
   "outputs": [],
   "source": [
    "docs = db.similarity_search(\"What are ways to conserve bees by preventing agricultural pollution?\")"
   ]
  },
  {
   "cell_type": "code",
   "execution_count": null,
   "id": "6f2c3747",
   "metadata": {},
   "outputs": [
    {
     "data": {
      "text/plain": [
       "4"
      ]
     },
     "execution_count": 16,
     "metadata": {},
     "output_type": "execute_result"
    }
   ],
   "source": [
    "len(docs)"
   ]
  },
  {
   "cell_type": "code",
   "execution_count": null,
   "id": "e96c5a25",
   "metadata": {},
   "outputs": [
    {
     "name": "stdout",
     "output_type": "stream",
     "text": [
      "The output is: abundance of wild bees is higher under organic farming. Three t\n",
      "rials found no significant \n",
      "difference in the numbers of bumblebees (two trials), bumblebee species (one trial), or \n",
      "wild bees visiting flowering crops (one trial) between conventional and organic farms. \n",
      " \n",
      "Restrict the use of certain pesticides. One site comparison study in Italy showed that a \n",
      "reduction in the number of solitary bee species in late summer can be av\n",
      "oided by not \n",
      "applying the insecticide fenitrothion repeatedly. \n",
      " \n",
      "Reduce pesticide or herbicide use generally. One replicated trial in the USA showed \n",
      "that numbers of foraging bees on sq\n",
      " uash farms are not affected by the responsible use \n",
      "of pesticides. \n",
      " \n",
      "Reduce fertilizer run‐off into field margins. We have captured no evidence on the \n",
      "effects of specific interventions for reducing fertilizer run‐off. \n",
      " \n",
      "Leave  field  margins  unsprayed  within  the  crop  (‘conservation  headlands’).  Two. \n",
      "\n",
      "The metadata is {'producer': 'Adobe Acrobat Pro 10.1.16', 'creator': 'Adobe Acrobat Pro 10.1.16', 'creationdate': '2018-06-14T10:12:19+01:00', 'moddate': '2018-06-21T10:29:49+01:00', 'title': 'Bee Conservation', 'source': '/workspaces/CRP-CXL/data/ConservationEvidence/BeeConservation.pdf', 'total_pages': 117, 'page': 49, 'page_label': '50'} \n",
      "\n",
      "\n",
      "The output is: Threat:  POLLUTION – Agricultural and forestry effluents \n",
      "Key messages \n",
      " \n",
      "Introduce agri‐environment schemes that reduce spraying. Four replicated trials in \n",
      "Europe have shown enhanced diversity and/or abundance of foraging wild bees on land \n",
      "managed under various European agri‐environment schemes, relative to conventional \n",
      "fields or field margins. Four replicated trials found that the number of bees and/or bee \n",
      "species is not enhanced on land manage d under European agri‐environment schemes. \n",
      "On a landscape scale, two replicated trials in the UK have found bumblebee populations \n",
      "were not enhanced in areas with farmland managed under agri‐environment schemes.   \n",
      "  \n",
      "Convert to organic farming. Six replicated trials from Europe or North America have \n",
      "monitored bees on organic and conventional arable farms. Three trials showed that the \n",
      "abundance of wild bees is higher under organic farming. Three t\n",
      "rials found no significant. \n",
      "\n",
      "The metadata is {'producer': 'Adobe Acrobat Pro 10.1.16', 'creator': 'Adobe Acrobat Pro 10.1.16', 'creationdate': '2018-06-14T10:12:19+01:00', 'moddate': '2018-06-21T10:29:49+01:00', 'title': 'Bee Conservation', 'source': '/workspaces/CRP-CXL/data/ConservationEvidence/BeeConservation.pdf', 'total_pages': 117, 'page': 49, 'page_label': '50'} \n",
      "\n",
      "\n",
      "The output is: Protect existing natural or semi-natural habitat to prevent conversion to \n",
      "agriculture \n",
      " \n",
      " We have captured no evidence for the effects of protecting areas of natural or semi-natural \n",
      "habitat on bee populations or communities. \n",
      " \n",
      "Background \n",
      " \n",
      "Protecting areas of existing habitat from conversion to agriculture is one of the \n",
      "most important conservation measures, particularly in the tropics. Whilst there is \n",
      "evidence that establishing protected areas reduces the rate of habitat degradation \n",
      "(see for example Bruner et al. 2001, Gaston et al. 2008), we do not know of any \n",
      "specific evid\n",
      "ence demonstrating that protected areas are effective at enhancing or \n",
      "protecting wild bee populations. \n",
      " \n",
      "Several studies show that bee abundance and/or diversity on farms are higher \n",
      "when areas of natural or semi‐natural habitat are closer, or the proportion of \n",
      "natural or semi‐natural habitat in the surrounding landscape is higher (reviewed. \n",
      "\n",
      "The metadata is {'producer': 'Adobe Acrobat Pro 10.1.16', 'creator': 'Adobe Acrobat Pro 10.1.16', 'creationdate': '2018-06-14T10:12:19+01:00', 'moddate': '2018-06-21T10:29:49+01:00', 'title': 'Bee Conservation', 'source': '/workspaces/CRP-CXL/data/ConservationEvidence/BeeConservation.pdf', 'total_pages': 117, 'page': 21, 'page_label': '22'} \n",
      "\n",
      "\n",
      "The output is: difference in bee divers ity  or abundance. \n",
      " \n",
      "Reduce grazing intensity on pastures. One replicated trial in Germany has shown that \n",
      "reducing the intensity of summer cattle grazing can increase the abundance, but not the \n",
      "species richness of cavity‐nesting bees and wasps.  \n",
      " \n",
      " \n",
      "For all evidence relating to the use of nest boxes, see ‘Provide artificial nest sites for \n",
      "bees’. \n",
      " \n",
      "For the effects of converting to organic farming, and studies that monitored the effects \n",
      "of several different agri‐environment schemes at once, see under ‘Threat: Pollution ‐ \n",
      "Agricultural and forestry effluents.’ \n",
      " \n",
      "Background \n",
      " \n",
      "Land use changes due to agriculture, particularly intensification of agriculture, \n",
      "natural habitat fragmentation and the abandonment of traditional practices, are \n",
      "significant drivers of declines in pollinator diversity (Kuldna et al. 2009).  \n",
      " \n",
      "Threats from wood and pulp plantations are also included in this category. \n",
      " \n",
      "How we treat European agri‐environment schemes. \n",
      "\n",
      "The metadata is {'producer': 'Adobe Acrobat Pro 10.1.16', 'creator': 'Adobe Acrobat Pro 10.1.16', 'creationdate': '2018-06-14T10:12:19+01:00', 'moddate': '2018-06-21T10:29:49+01:00', 'title': 'Bee Conservation', 'source': '/workspaces/CRP-CXL/data/ConservationEvidence/BeeConservation.pdf', 'total_pages': 117, 'page': 18, 'page_label': '19'} \n",
      "\n",
      "\n"
     ]
    }
   ],
   "source": [
    "print_output(docs)"
   ]
  },
  {
   "cell_type": "code",
   "execution_count": null,
   "id": "4cd171b0",
   "metadata": {},
   "outputs": [],
   "source": [
    "docs = db.similarity_search(\"Mathematics\")"
   ]
  },
  {
   "cell_type": "code",
   "execution_count": null,
   "id": "3cd7efd3",
   "metadata": {},
   "outputs": [
    {
     "data": {
      "text/plain": [
       "4"
      ]
     },
     "execution_count": 31,
     "metadata": {},
     "output_type": "execute_result"
    }
   ],
   "source": [
    "len(docs)"
   ]
  },
  {
   "cell_type": "code",
   "execution_count": null,
   "id": "43f0433c",
   "metadata": {},
   "outputs": [
    {
     "name": "stdout",
     "output_type": "stream",
     "text": [
      "[Document(id='c109812d-f3c8-419f-b2e2-bb1a74f54092', metadata={'producer': 'Adobe PDF Library 10.0.1; modified using iText® 5.3.1 ©2000-2012 1T3XT BVBA (AGPL-version)', 'creator': 'Adobe InDesign CS6 (Windows)', 'creationdate': '2013-11-09T13:43:18+05:30', 'moddate': '2014-09-19T14:09:37+02:00', 'source': '/workspaces/CRP-CXL/data/ImprovementsOfCropsInTheEraOfClimateChanges.pdf', 'total_pages': 410, 'page': 100, 'page_label': '84'}, page_content='ological factors and the biomass or other growth measures of organisms, ranging \\nfrom unicellular algae to terrestrial plants.\\nAllometry is a long-known concept, which has not always referred to by using this \\nterm. The roots of allometry are to be found in the use of ratio and proportion, a \\npractical idea that was used even before the introduction of numeric systems; a system \\nof proportion was first devised in the Mesopotamia, while geometry was also devel-\\noped as an important tool in the Ancient Egypt (Idrisi 2005). Later, Greeks learned \\nmathematics from these main sources and turned geometric knowledge into intel-\\nlectual analysis. But formal abstraction was not used widely until the work of \\nAl-Khawarizmi, more specifically until the work on proportion by Ahmad ibn Yusuf \\nand the power studies of Al Karkhi (Rashed 1996). Later on, this knowledge flowed \\nto the European renaissance, where proportion concepts were applied widely, espe-'), Document(id='7da05ea6-bee3-4d90-bc7b-b4df8cbbfb87', metadata={'producer': 'Adobe PDF Library 16.0', 'creator': 'Adobe InDesign 16.4 (Windows)', 'creationdate': '2022-11-16T11:07:55+05:30', 'author': 'Edited by P.R. Anisha', 'keywords': 'Data Analytics; Internet of Things; Disaster Management System; Industry 4.0; Smart Manufacturing; Artificial Neural Networks', 'moddate': '2022-11-17T13:59:50+05:30', 'subject': 'The text discusses models related to smart automation in the manufacturing processes and early warning detection systems using machine intelligence. It will serve as an ideal reference text for graduate students and academic researchers in diverse engineering fields such as electrical, electronics and communication.', 'title': 'Intelligent Systems and Machine Learning for Industry: Advancements, Challenges and Practices', 'source': '/workspaces/CRP-CXL/data/IntelligentSystemsandMachineLearningforIndustry.pdf', 'total_pages': 362, 'page': 222, 'page_label': '208'}, page_content='ematical model that helps make predictions or decisions without having to \\nbe explicitly programmed [ 25]. An example, direct experience, or instruc -\\ntion can be used to start the process of learning. This helps people look for \\npatterns in data and make better decisions in the future based on what they \\nhave seen. It can be used in real time to learn from data after it has been \\ntrained. The training process and automation are part of machine learning. \\nIn machine learning, there are three types of algorithms: supervised learn -\\ning, unsupervised learning, and reinforcement learning [26]. Here, machine \\nlearning models like discriminant analysis and classification trees are built \\nand used to predict what crops will grow.\\nDiscriminant analysis is a way to look at data when the criterion or the \\ndependent variable is a group and the predictor is a single number [27]. The \\ngoal of discriminant analysis is to produce discriminant functions that are'), Document(id='13df5bca-5760-46e3-a912-84a6bc1a62ef', metadata={'producer': 'Adobe PDF Library 16.0', 'creator': 'Adobe InDesign 16.4 (Windows)', 'creationdate': '2022-11-16T11:07:55+05:30', 'author': 'Edited by P.R. Anisha', 'keywords': 'Data Analytics; Internet of Things; Disaster Management System; Industry 4.0; Smart Manufacturing; Artificial Neural Networks', 'moddate': '2022-11-17T13:59:50+05:30', 'subject': 'The text discusses models related to smart automation in the manufacturing processes and early warning detection systems using machine intelligence. It will serve as an ideal reference text for graduate students and academic researchers in diverse engineering fields such as electrical, electronics and communication.', 'title': 'Intelligent Systems and Machine Learning for Industry: Advancements, Challenges and Practices', 'source': '/workspaces/CRP-CXL/data/IntelligentSystemsandMachineLearningforIndustry.pdf', 'total_pages': 362, 'page': 55, 'page_label': '41'}, page_content='wavelets provide the flexibility for the construction of symmetric wavelet \\nfunctions or the introduction of scaling functions, wherever required.\\n3.1.1  Motivation\\nThe processing of medical images requires experience and expertise \\nfrom multiple fields like applied mathematics, physics, feature engineer -\\ning, computer science, medicine, and biology. Several types of modali -\\nties are utilized for effective and timely disease diagnosis. The major \\nchallenge observed during the diagnosis includes the noisy images \\nacquired. Currently, study of the analysis of images through wavelet \\ndecomposition is being conducted to understand the intricacies of the \\nacquired image content. Wavelets provide the channel for analysis in \\nboth the time and frequency domains simultaneously. The periodic char -\\nacteristic of the signals is retained while its energy is concentrated in \\ntime. Hence, wavelet decomposition is a very useful mathematical tool'), Document(id='509e5d17-f31f-4164-85a1-265a78131f6c', metadata={'producer': 'Adobe PDF Library 16.0', 'creator': 'Adobe InDesign 16.4 (Windows)', 'creationdate': '2022-11-16T11:07:55+05:30', 'author': 'Edited by P.R. Anisha', 'keywords': 'Data Analytics; Internet of Things; Disaster Management System; Industry 4.0; Smart Manufacturing; Artificial Neural Networks', 'moddate': '2022-11-17T13:59:50+05:30', 'subject': 'The text discusses models related to smart automation in the manufacturing processes and early warning detection systems using machine intelligence. It will serve as an ideal reference text for graduate students and academic researchers in diverse engineering fields such as electrical, electronics and communication.', 'title': 'Intelligent Systems and Machine Learning for Industry: Advancements, Challenges and Practices', 'source': '/workspaces/CRP-CXL/data/IntelligentSystemsandMachineLearningforIndustry.pdf', 'total_pages': 362, 'page': 306, 'page_label': '292'}, page_content='4.  Povey, Daniel, Arnab Ghoshal, Gilles Boulianne, Luk áš Burget, Ondrej \\nGlembek, Nagendra Goel, Mirko Hannemann, Petr Motl íček, Yanmin Qian, \\nPetr Schwarz, Jan Silovsk ý, Georg Stemmer, and Karel Vesel. “The Kaldi \\nspeech recognition toolkit.” IEEE 2011 Workshop on Automatic Speech \\nRecognition and Understanding.\\n 5.  Wolf, T., L. Debut, V. Sanh, J. Chaumond, C. Delangue, A. Moi, P. Cistac, \\nT. Rault, R. Louf, M. Funtowicz, and J. Davison. “Huggingface’s trans -\\nformers: State-of-the-art natural language processing.” arXiv preprint \\narXiv:1910.03771. 2019 Oct 9.\\n 6.  Ahmed, M., S. Islam, A.K.M. Islam, and S. Shatabda. “An ensemble \\n1D-CNN-LSTM-GRU model with data augmentation for speech emotion \\nrecognition.” arXiv preprint arXiv:2112.05666  (2021).\\n 7.  Blake, Ian, Gerald Seroussi, Gadiel Seroussi, and Nigel Smart. Elliptic Curves \\nin Cryptography . Vol. 265. Cambridge University Press, 1999.\\n 8.  Avanzi R. “Another look at square roots and traces (and quadratic equations)')]\n"
     ]
    }
   ],
   "source": [
    "print(docs)"
   ]
  },
  {
   "cell_type": "code",
   "execution_count": null,
   "id": "8cf0d300",
   "metadata": {},
   "outputs": [],
   "source": [
    "from langchain_openai import ChatOpenAI\n",
    "\n",
    "#initialize the LLM we'll use - OpenAI GPT 3.5 Turbo\n",
    "llm = ChatOpenAI(openai_api_key=OPENAI_API_KEY, model=\"gpt-3.5-turbo-0125\")"
   ]
  },
  {
   "cell_type": "code",
   "execution_count": null,
   "id": "ab0de77e",
   "metadata": {},
   "outputs": [],
   "source": [
    "retriever = db.as_retriever(search_type=\"similarity\", search_kwargs={\"k\": 6})"
   ]
  },
  {
   "cell_type": "code",
   "execution_count": null,
   "id": "2d242578",
   "metadata": {},
   "outputs": [
    {
     "name": "stderr",
     "output_type": "stream",
     "text": [
      "/usr/local/python/3.12.1/lib/python3.12/site-packages/langsmith/client.py:272: LangSmithMissingAPIKeyWarning: API key must be provided when using hosted LangSmith API\n",
      "  warnings.warn(\n"
     ]
    }
   ],
   "source": [
    "from langchain import hub\n",
    "\n",
    "prompt = hub.pull(\"rlm/rag-prompt\")"
   ]
  },
  {
   "cell_type": "code",
   "execution_count": null,
   "id": "42b464d7",
   "metadata": {},
   "outputs": [
    {
     "data": {
      "text/plain": [
       "ChatPromptTemplate(input_variables=['context', 'question'], input_types={}, partial_variables={}, metadata={'lc_hub_owner': 'rlm', 'lc_hub_repo': 'rag-prompt', 'lc_hub_commit_hash': '50442af133e61576e74536c6556cefe1fac147cad032f4377b60c436e6cdcb6e'}, messages=[HumanMessagePromptTemplate(prompt=PromptTemplate(input_variables=['context', 'question'], input_types={}, partial_variables={}, template=\"You are an assistant for question-answering tasks. Use the following pieces of retrieved context to answer the question. If you don't know the answer, just say that you don't know. Use three sentences maximum and keep the answer concise.\\nQuestion: {question} \\nContext: {context} \\nAnswer:\"), additional_kwargs={})])"
      ]
     },
     "execution_count": 9,
     "metadata": {},
     "output_type": "execute_result"
    }
   ],
   "source": [
    "prompt"
   ]
  },
  {
   "cell_type": "code",
   "execution_count": null,
   "id": "5acd213a",
   "metadata": {},
   "outputs": [],
   "source": [
    "from langchain_core.output_parsers import StrOutputParser\n",
    "from langchain_core.runnables import RunnablePassthrough\n",
    "\n",
    "def format_docs(docs):\n",
    "    return \"\\n\\n\".join(doc.page_content for doc in docs)\n",
    "\n",
    "#combine multiple steps in a single chain\n",
    "rag_chain = (\n",
    "    {\"context\": retriever | format_docs, \"question\": RunnablePassthrough()}\n",
    "    | prompt\n",
    "    | llm\n",
    "    | StrOutputParser() #convert the chat message to a string\n",
    ")"
   ]
  },
  {
   "cell_type": "code",
   "execution_count": null,
   "id": "5d45adb0",
   "metadata": {},
   "outputs": [
    {
     "data": {
      "text/plain": [
       "AIMessage(content='Prevention of agriculture pollution in California can help reduce bee extinction by protecting the natural habitats of bees and ensuring that they have access to clean water and food sources. Agricultural pollution, such as the use of pesticides and fertilizers, can contaminate the water and soil, making it difficult for bees to find suitable foraging grounds and causing harm to their health.\\n\\nBy implementing sustainable farming practices and reducing the use of harmful chemicals, farmers can create a more bee-friendly environment that supports healthy populations of pollinators. This, in turn, helps to ensure the continued pollination of crops and wild plants, which are essential for the health of ecosystems and agricultural production.\\n\\nAdditionally, reducing agriculture pollution can help mitigate the impacts of climate change, which is also a significant threat to bee populations. By promoting practices that support biodiversity and protect natural resources, we can help create a more resilient environment for bees and other pollinators in California.', additional_kwargs={'refusal': None}, response_metadata={'token_usage': {'completion_tokens': 185, 'prompt_tokens': 23, 'total_tokens': 208, 'completion_tokens_details': {'accepted_prediction_tokens': 0, 'audio_tokens': 0, 'reasoning_tokens': 0, 'rejected_prediction_tokens': 0}, 'prompt_tokens_details': {'audio_tokens': 0, 'cached_tokens': 0}}, 'model_name': 'gpt-3.5-turbo-0125', 'system_fingerprint': None, 'id': 'chatcmpl-CR57G5IumnqqiKd70ORHY1z4AxhF5', 'service_tier': 'default', 'finish_reason': 'stop', 'logprobs': None}, id='run--97a8293e-163b-4f8d-899c-236c1858659f-0', usage_metadata={'input_tokens': 23, 'output_tokens': 185, 'total_tokens': 208, 'input_token_details': {'audio': 0, 'cache_read': 0}, 'output_token_details': {'audio': 0, 'reasoning': 0}})"
      ]
     },
     "execution_count": 11,
     "metadata": {},
     "output_type": "execute_result"
    }
   ],
   "source": [
    "llm.invoke(\"How does prevention of agriculture pollution reduce bee extinction in the state of California? \")  "
   ]
  },
  {
   "cell_type": "code",
   "execution_count": null,
   "id": "169581ad",
   "metadata": {},
   "outputs": [],
   "source": []
  }
 ],
 "metadata": {
  "kernelspec": {
   "display_name": "Python 3",
   "language": "python",
   "name": "python3"
  },
  "language_info": {
   "codemirror_mode": {
    "name": "ipython",
    "version": 3
   },
   "file_extension": ".py",
   "mimetype": "text/x-python",
   "name": "python",
   "nbconvert_exporter": "python",
   "pygments_lexer": "ipython3",
   "version": "3.12.1"
  }
 },
 "nbformat": 4,
 "nbformat_minor": 5
}
